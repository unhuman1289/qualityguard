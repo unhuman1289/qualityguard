{
 "cells": [
  {
   "cell_type": "code",
   "execution_count": 4,
   "id": "bcd0694d",
   "metadata": {},
   "outputs": [],
   "source": [
    "import json\n",
    "from collections import Counter\n",
    "\n",
    "ndjson_file = r'C:\\Users\\tranv\\OneDrive\\unhuman1289\\qualityguard_onedrive\\output\\fhir\\synthea_300.ndjson'\n",
    "\n",
    "resource_counter = Counter()\n",
    "total_lines = 0\n"
   ]
  },
  {
   "cell_type": "code",
   "execution_count": 5,
   "id": "70420379",
   "metadata": {},
   "outputs": [
    {
     "name": "stdout",
     "output_type": "stream",
     "text": [
      "Total resources: 107\n",
      "Resource counts:\n",
      "  Bundle: 107\n"
     ]
    }
   ],
   "source": [
    "\n",
    "with open(ndjson_file, 'r') as f:\n",
    "    for line in f:\n",
    "        total_lines += 1\n",
    "        try:\n",
    "            resource = json.loads(line)\n",
    "            resource_type = resource.get('resourceType', 'Unknown')\n",
    "            resource_counter[resource_type] += 1\n",
    "        except json.JSONDecodeError:\n",
    "            print(f\"Skipping invalid JSON line {total_lines}\")\n",
    "\n",
    "print(f\"Total resources: {total_lines}\")\n",
    "print(\"Resource counts:\")\n",
    "for rtype, count in resource_counter.items():\n",
    "    print(f\"  {rtype}: {count}\")"
   ]
  }
 ],
 "metadata": {
  "kernelspec": {
   "display_name": "Python 3",
   "language": "python",
   "name": "python3"
  },
  "language_info": {
   "codemirror_mode": {
    "name": "ipython",
    "version": 3
   },
   "file_extension": ".py",
   "mimetype": "text/x-python",
   "name": "python",
   "nbconvert_exporter": "python",
   "pygments_lexer": "ipython3",
   "version": "3.11.9"
  }
 },
 "nbformat": 4,
 "nbformat_minor": 5
}
